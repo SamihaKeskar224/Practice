{
 "cells": [
  {
   "cell_type": "code",
   "execution_count": 2,
   "id": "72bb2456",
   "metadata": {},
   "outputs": [
    {
     "name": "stdout",
     "output_type": "stream",
     "text": [
      "10 20 30\n"
     ]
    }
   ],
   "source": [
    "#Multiline coding\n",
    "\n",
    "def my_func(a, #comment\n",
    "            b,\n",
    "            c):\n",
    "    print(a,b,c)\n",
    "    \n",
    "my_func(10,20,30)"
   ]
  },
  {
   "cell_type": "code",
   "execution_count": 4,
   "id": "264a675d",
   "metadata": {},
   "outputs": [
    {
     "name": "stdout",
     "output_type": "stream",
     "text": [
      "this is a multiline string\n"
     ]
    }
   ],
   "source": [
    "# not a multiline as only 1 quote is used\n",
    "\n",
    "print(\"this is a multiline string\")  "
   ]
  },
  {
   "cell_type": "code",
   "execution_count": 5,
   "id": "5529eb74",
   "metadata": {},
   "outputs": [
    {
     "name": "stdout",
     "output_type": "stream",
     "text": [
      "this is a \n",
      "      multiline string\n"
     ]
    }
   ],
   "source": [
    "# 3 quotes for multiline - single or double both works\n",
    "\n",
    "print('''this is a \n",
    "      multiline string''')"
   ]
  },
  {
   "cell_type": "code",
   "execution_count": 7,
   "id": "772d321f",
   "metadata": {},
   "outputs": [
    {
     "data": {
      "text/plain": [
       "[1, 2]"
      ]
     },
     "execution_count": 7,
     "metadata": {},
     "output_type": "execute_result"
    }
   ],
   "source": [
    "a = [1,2]\n",
    "\n",
    "a"
   ]
  },
  {
   "cell_type": "code",
   "execution_count": 8,
   "id": "39fe7a38",
   "metadata": {},
   "outputs": [
    {
     "data": {
      "text/plain": [
       "[1, 2]"
      ]
     },
     "execution_count": 8,
     "metadata": {},
     "output_type": "execute_result"
    }
   ],
   "source": [
    "a = [1 #item1\n",
    "    , 2]\n",
    "a"
   ]
  },
  {
   "cell_type": "code",
   "execution_count": 9,
   "id": "ce70fe73",
   "metadata": {},
   "outputs": [
    {
     "name": "stdout",
     "output_type": "stream",
     "text": [
      "yes\n"
     ]
    }
   ],
   "source": [
    "a =10\n",
    "b = 20\n",
    "c = 30\n",
    "\n",
    "if a>5 and b>10 and c>20:\n",
    "    print(\"yes\")"
   ]
  },
  {
   "cell_type": "code",
   "execution_count": 12,
   "id": "268c8b6c",
   "metadata": {},
   "outputs": [
    {
     "name": "stdout",
     "output_type": "stream",
     "text": [
      "yes\n"
     ]
    }
   ],
   "source": [
    "# multiline in if block with backslash as it is explicit\n",
    "\n",
    "a =10\n",
    "b = 20\n",
    "c = 30\n",
    "\n",
    "if a>5 \\\n",
    "and b>10 \\\n",
    "and c>20:\n",
    "    print(\"yes\")"
   ]
  },
  {
   "cell_type": "code",
   "execution_count": 14,
   "id": "d1ae9ac4",
   "metadata": {},
   "outputs": [
    {
     "name": "stdout",
     "output_type": "stream",
     "text": [
      "this is a \n",
      "string\n"
     ]
    }
   ],
   "source": [
    "#always remove indentation of new line of string in a function\n",
    "\n",
    "def my_func():\n",
    "    a = '''this is a \n",
    "string'''\n",
    "    return a\n",
    "\n",
    "print(my_func())"
   ]
  },
  {
   "cell_type": "code",
   "execution_count": 15,
   "id": "4a42d24c",
   "metadata": {},
   "outputs": [
    {
     "name": "stdout",
     "output_type": "stream",
     "text": [
      "yes\n"
     ]
    }
   ],
   "source": [
    "x = 10\n",
    "y = 20\n",
    "if x<y:\n",
    "    print(\"yes\")"
   ]
  },
  {
   "cell_type": "code",
   "execution_count": 16,
   "id": "b97bdd8e",
   "metadata": {},
   "outputs": [
    {
     "name": "stdout",
     "output_type": "stream",
     "text": [
      "yes\n"
     ]
    }
   ],
   "source": [
    "# < operator interpretation\n",
    "\n",
    "x = 10\n",
    "y = 20\n",
    "if x.__lt__(y):  \n",
    "    print(\"yes\")"
   ]
  },
  {
   "cell_type": "code",
   "execution_count": 18,
   "id": "6c39f2dd",
   "metadata": {},
   "outputs": [
    {
     "name": "stdout",
     "output_type": "stream",
     "text": [
      "a<5\n"
     ]
    }
   ],
   "source": [
    "#ternary operation\n",
    "\n",
    "a = 4\n",
    "b = 'a<5' if a<5 else 'a>=5'\n",
    "print(b)"
   ]
  },
  {
   "cell_type": "code",
   "execution_count": 19,
   "id": "2dc76b68",
   "metadata": {},
   "outputs": [
    {
     "name": "stdout",
     "output_type": "stream",
     "text": [
      "a>=5\n"
     ]
    }
   ],
   "source": [
    "a = 24\n",
    "b = 'a<5' if a<5 else 'a>=5'\n",
    "print(b)"
   ]
  },
  {
   "cell_type": "code",
   "execution_count": 20,
   "id": "30c43746",
   "metadata": {},
   "outputs": [
    {
     "data": {
      "text/plain": [
       "[6, 8, 6, 8, 6, 8]"
      ]
     },
     "execution_count": 20,
     "metadata": {},
     "output_type": "execute_result"
    }
   ],
   "source": [
    "# one of the parameter in * should be integer, another can be any data structure like string or list\n",
    "\n",
    "def func(a,b):\n",
    "    return a*b\n",
    "\n",
    "func([6,8],3)\n"
   ]
  },
  {
   "cell_type": "code",
   "execution_count": 21,
   "id": "033d029d",
   "metadata": {},
   "outputs": [
    {
     "data": {
      "text/plain": [
       "[6, 8, 6, 8, 6, 8]"
      ]
     },
     "execution_count": 21,
     "metadata": {},
     "output_type": "execute_result"
    }
   ],
   "source": [
    "def func(a,b):\n",
    "    return a*b\n",
    "\n",
    "func(3,[6,8])\n"
   ]
  },
  {
   "cell_type": "code",
   "execution_count": 23,
   "id": "dd61eb4d",
   "metadata": {},
   "outputs": [
    {
     "data": {
      "text/plain": [
       "'bbb'"
      ]
     },
     "execution_count": 23,
     "metadata": {},
     "output_type": "execute_result"
    }
   ],
   "source": [
    "def func(a,b):\n",
    "    return a*b\n",
    "\n",
    "func(3,'b')"
   ]
  },
  {
   "cell_type": "code",
   "execution_count": 28,
   "id": "e908807a",
   "metadata": {},
   "outputs": [
    {
     "name": "stdout",
     "output_type": "stream",
     "text": [
      "enter your name : S\n",
      "enter your name : 30\n",
      "enter your name : Sammy\n",
      "Hello, Sammy\n"
     ]
    }
   ],
   "source": [
    "# while and break, {0} indicates name\n",
    "\n",
    "min_len = 2\n",
    "while True:\n",
    "    name = input(\"enter your name : \")\n",
    "    if len(name) > min_len and name.isprintable() and name.isalpha():\n",
    "        break\n",
    "\n",
    "\n",
    "print(\"Hello, {0}\".format(name))"
   ]
  },
  {
   "cell_type": "code",
   "execution_count": 30,
   "id": "0a74705c",
   "metadata": {},
   "outputs": [
    {
     "name": "stdout",
     "output_type": "stream",
     "text": [
      "0\n",
      "1\n",
      "2\n",
      "3\n",
      "4\n",
      "---------------\n",
      "0\n",
      "1\n",
      "2\n",
      "3\n",
      "4\n"
     ]
    }
   ],
   "source": [
    "# same output,diff loops implementation\n",
    "\n",
    "i = 0 \n",
    "while i < 5:\n",
    "    print(i)\n",
    "    i += 1\n",
    "i = None\n",
    "\n",
    "print(\"---------------\")\n",
    "\n",
    "for i in range(5):  # range is iterable\n",
    "    print(i)"
   ]
  },
  {
   "cell_type": "code",
   "execution_count": 31,
   "id": "bfae0a22",
   "metadata": {},
   "outputs": [
    {
     "name": "stdout",
     "output_type": "stream",
     "text": [
      "(6, 8)\n",
      "(17, 18)\n",
      "SS\n",
      "{'july': 2, 'julyy': 28, 'oct': 9, 'june': 17, 'october': 4, 'feb': 9}\n",
      "KG\n"
     ]
    }
   ],
   "source": [
    "# different iterables\n",
    "\n",
    "for x in [(6,8),(17,18),\"SS\",{\"july\": 2,\"julyy\": 28,\"oct\": 9,\"june\": 17,\"october\": 4,\"feb\": 9}, \"KG\" ]:\n",
    "    print(x)"
   ]
  },
  {
   "cell_type": "code",
   "execution_count": 35,
   "id": "3fc81471",
   "metadata": {},
   "outputs": [
    {
     "name": "stdout",
     "output_type": "stream",
     "text": [
      "----------------------\n",
      "always run\n",
      "1\n",
      "----------------------\n",
      "always run\n",
      "2\n",
      "----------------------\n",
      "division by zero\n",
      "always run\n",
      "----------------------\n",
      "always run\n",
      "4\n"
     ]
    }
   ],
   "source": [
    "for i in range(1,5):\n",
    "    print(\"----------------------\")\n",
    "    \n",
    "    try:\n",
    "        10/(i-3)\n",
    "    except ZeroDivisionError:\n",
    "        print(\"division by zero\")\n",
    "        continue\n",
    "    finally:\n",
    "        print(\"always run\")\n",
    "        \n",
    "    print(i)"
   ]
  },
  {
   "cell_type": "code",
   "execution_count": 38,
   "id": "5ecdd342",
   "metadata": {},
   "outputs": [
    {
     "name": "stdout",
     "output_type": "stream",
     "text": [
      "0 S\n",
      "1 a\n",
      "2 m\n",
      "3 i\n",
      "4 h\n",
      "5 a\n",
      "-----------\n",
      "0 S\n",
      "1 a\n",
      "2 m\n",
      "3 i\n",
      "4 h\n",
      "5 a\n"
     ]
    }
   ],
   "source": [
    "# printing index with for - 2 diff approaches\n",
    "\n",
    "s = \"Samiha\"\n",
    "i = 0\n",
    "\n",
    "for c in s:\n",
    "    print(i,c)\n",
    "    i += 1\n",
    "    \n",
    "print(\"-----------\")\n",
    "\n",
    "s = \"Samiha\"\n",
    "\n",
    "for i in range(len(s)):\n",
    "    print(i, s[i])\n",
    "\n",
    "    "
   ]
  },
  {
   "cell_type": "code",
   "execution_count": 1,
   "id": "ffd66380",
   "metadata": {},
   "outputs": [
    {
     "data": {
      "text/plain": [
       "20"
      ]
     },
     "execution_count": 1,
     "metadata": {},
     "output_type": "execute_result"
    }
   ],
   "source": [
    "# __init__ initializes the object. self is the object that is just created\n",
    "\n",
    "class rectangle:\n",
    "    def __init__(self, width, height):\n",
    "        self.width = width\n",
    "        self.height = height\n",
    "\n",
    "r1 = rectangle(10,20)\n",
    "r1.width\n",
    "r1.height"
   ]
  },
  {
   "cell_type": "code",
   "execution_count": 2,
   "id": "784660f9",
   "metadata": {},
   "outputs": [
    {
     "name": "stdout",
     "output_type": "stream",
     "text": [
      "10\n",
      "20\n"
     ]
    }
   ],
   "source": [
    "print(r1.width)\n",
    "print(r1.height)"
   ]
  },
  {
   "cell_type": "code",
   "execution_count": 3,
   "id": "f98011a2",
   "metadata": {},
   "outputs": [
    {
     "name": "stdout",
     "output_type": "stream",
     "text": [
      "200\n",
      "60\n"
     ]
    }
   ],
   "source": [
    "# defining methods in a class\n",
    "\n",
    "class rectangle:\n",
    "    def __init__(self, width, height):\n",
    "        self.width = width\n",
    "        self.height = height\n",
    "        \n",
    "    def area(self):\n",
    "        return self.width * self.height\n",
    "    \n",
    "    def peri(self):\n",
    "        return 2*(self.width + self.height)\n",
    "    \n",
    "r1 = rectangle(10,20)\n",
    "print(r1.area())\n",
    "print(r1.peri())"
   ]
  },
  {
   "cell_type": "code",
   "execution_count": 6,
   "id": "5b332147",
   "metadata": {},
   "outputs": [
    {
     "name": "stdout",
     "output_type": "stream",
     "text": [
      "rectangle of width = 10 and height = 20\n"
     ]
    }
   ],
   "source": [
    "# method to represent info in string form\n",
    "\n",
    "class rectangle:\n",
    "    def __init__(self, width, height):\n",
    "        self.width = width\n",
    "        self.height = height\n",
    "        \n",
    "    def area(self):\n",
    "        return self.width * self.height\n",
    "    \n",
    "    def peri(self):\n",
    "        return 2*(self.width + self.height)\n",
    "    \n",
    "    def to_str(self):\n",
    "        return 'rectangle of width = {0} and height = {1}'.format(self.width, self.height)\n",
    "    \n",
    "r1 = rectangle(10,20)\n",
    "print(r1.to_str())"
   ]
  },
  {
   "cell_type": "code",
   "execution_count": 7,
   "id": "531c30fd",
   "metadata": {},
   "outputs": [
    {
     "data": {
      "text/plain": [
       "'rectangle of width = 10 and height = 20'"
      ]
     },
     "execution_count": 7,
     "metadata": {},
     "output_type": "execute_result"
    }
   ],
   "source": [
    "# string format using built in string method\n",
    "\n",
    "class rectangle:\n",
    "    def __init__(self, width, height):\n",
    "        self.width = width\n",
    "        self.height = height\n",
    "        \n",
    "    def area(self):\n",
    "        return self.width * self.height\n",
    "    \n",
    "    def peri(self):\n",
    "        return 2*(self.width + self.height)\n",
    "    \n",
    "    def __str__(self):\n",
    "        return 'rectangle of width = {0} and height = {1}'.format(self.width, self.height)\n",
    "    \n",
    "r1 = rectangle(10,20)\n",
    "str(r1)"
   ]
  },
  {
   "cell_type": "code",
   "execution_count": 10,
   "id": "0645099d",
   "metadata": {},
   "outputs": [],
   "source": [
    "# default representation method, otherwise a class is represented by its address and not string like lists\n",
    "\n",
    "class rectangle:\n",
    "    def __init__(self, width, height):\n",
    "        self.width = width\n",
    "        self.height = height\n",
    "        \n",
    "    def area(self):\n",
    "        return self.width * self.height\n",
    "    \n",
    "    def peri(self):\n",
    "        return 2*(self.width + self.height)\n",
    "    \n",
    "    def __str__(self):\n",
    "        return 'rectangle of width = {0} and height = {1}'.format(self.width, self.height)\n",
    "    \n",
    "    def __repr__(self):\n",
    "        return 'rectangle({0},{1})'.format(self.width, self.height)\n",
    "    \n",
    "r1 = rectangle(10,20)\n",
    "\n",
    "l = [1,2,3]"
   ]
  },
  {
   "cell_type": "code",
   "execution_count": 9,
   "id": "306eccc8",
   "metadata": {},
   "outputs": [
    {
     "data": {
      "text/plain": [
       "rectangle(10,20)"
      ]
     },
     "execution_count": 9,
     "metadata": {},
     "output_type": "execute_result"
    }
   ],
   "source": [
    "r1"
   ]
  },
  {
   "cell_type": "code",
   "execution_count": 11,
   "id": "e3db8930",
   "metadata": {},
   "outputs": [
    {
     "data": {
      "text/plain": [
       "'[1, 2, 3]'"
      ]
     },
     "execution_count": 11,
     "metadata": {},
     "output_type": "execute_result"
    }
   ],
   "source": [
    "str(l)"
   ]
  },
  {
   "cell_type": "code",
   "execution_count": 12,
   "id": "e1efe271",
   "metadata": {},
   "outputs": [
    {
     "data": {
      "text/plain": [
       "[1, 2, 3]"
      ]
     },
     "execution_count": 12,
     "metadata": {},
     "output_type": "execute_result"
    }
   ],
   "source": [
    "# cant represent a class like this without using __repr__\n",
    "\n",
    "l"
   ]
  },
  {
   "cell_type": "code",
   "execution_count": 13,
   "id": "130f1a20",
   "metadata": {},
   "outputs": [],
   "source": [
    "# without using __repr__\n",
    "\n",
    "class rectangle:\n",
    "    def __init__(self, width, height):\n",
    "        self.width = width\n",
    "        self.height = height\n",
    "        \n",
    "    def area(self):\n",
    "        return self.width * self.height\n",
    "    \n",
    "    def peri(self):\n",
    "        return 2*(self.width + self.height)\n",
    "    \n",
    "    def __str__(self):\n",
    "        return 'rectangle of width = {0} and height = {1}'.format(self.width, self.height)\n",
    "    \n",
    "    \n",
    "r1 = rectangle(10,20)"
   ]
  },
  {
   "cell_type": "code",
   "execution_count": 14,
   "id": "475df4fa",
   "metadata": {},
   "outputs": [
    {
     "data": {
      "text/plain": [
       "<__main__.rectangle at 0x2c5d2fdffa0>"
      ]
     },
     "execution_count": 14,
     "metadata": {},
     "output_type": "execute_result"
    }
   ],
   "source": [
    "r1"
   ]
  },
  {
   "cell_type": "code",
   "execution_count": 16,
   "id": "a02e4d9a",
   "metadata": {},
   "outputs": [
    {
     "name": "stdout",
     "output_type": "stream",
     "text": [
      "True\n",
      "True\n"
     ]
    }
   ],
   "source": [
    "# r1 is not r2 in terms of memory as they are diff objects but r1 == r2 as values are same\n",
    "\n",
    "class rectangle:\n",
    "    def __init__(self, width, height):\n",
    "        self.width = width\n",
    "        self.height = height\n",
    "        \n",
    "    def area(self):\n",
    "        return self.width * self.height\n",
    "    \n",
    "    def peri(self):\n",
    "        return 2*(self.width + self.height)\n",
    "    \n",
    "    def __str__(self):\n",
    "        return 'rectangle of width = {0} and height = {1}'.format(self.width, self.height)\n",
    "    \n",
    "    def __repr__(self):\n",
    "        return 'rectangle({0},{1})'.format(self.width, self.height)\n",
    "    \n",
    "    def __eq__(self, other):\n",
    "        return self.width == other.width and self.height == other.height\n",
    "    \n",
    "r1 = rectangle(10,20)\n",
    "r2 = rectangle(10,20)\n",
    "\n",
    "print(r1 is not r2)\n",
    "print(r1==r2)"
   ]
  },
  {
   "cell_type": "code",
   "execution_count": 18,
   "id": "8c484bc2",
   "metadata": {},
   "outputs": [
    {
     "name": "stdout",
     "output_type": "stream",
     "text": [
      "True\n",
      "True\n"
     ]
    }
   ],
   "source": [
    "class rectangle:\n",
    "    def __init__(self, width, height):\n",
    "        self.width = width\n",
    "        self.height = height\n",
    "        \n",
    "    def area(self):\n",
    "        return self.width * self.height\n",
    "    \n",
    "    def peri(self):\n",
    "        return 2*(self.width + self.height)\n",
    "    \n",
    "    def __str__(self):\n",
    "        return 'rectangle of width = {0} and height = {1}'.format(self.width, self.height)\n",
    "    \n",
    "    def __repr__(self):\n",
    "        return 'rectangle({0},{1})'.format(self.width, self.height)\n",
    "    \n",
    "    def __eq__(self, other):\n",
    "        if isinstance(other, rectangle):\n",
    "            return self.width == other.width and self.height == other.height\n",
    "        else:\n",
    "            return False\n",
    "    \n",
    "r1 = rectangle(10,20)\n",
    "r2 = rectangle(10,20)\n",
    "\n",
    "print(r1 is not r2)\n",
    "print(r1==r2)\n"
   ]
  },
  {
   "cell_type": "code",
   "execution_count": 29,
   "id": "9689bfd1",
   "metadata": {},
   "outputs": [],
   "source": [
    "# comparison of areas with operators\n",
    "\n",
    "class rectangle:\n",
    "    def __init__(self, width, height):\n",
    "        self.width = width\n",
    "        self.height = height\n",
    "        \n",
    "    def area(self):\n",
    "        return self.width * self.height\n",
    "    \n",
    "    def peri(self):\n",
    "        return 2*(self.width + self.height)\n",
    "    \n",
    "    def __str__(self):\n",
    "        return 'rectangle of width = {0} and height = {1}'.format(self.width, self.height)\n",
    "    \n",
    "    def __repr__(self):\n",
    "        return 'rectangle({0},{1})'.format(self.width, self.height)\n",
    "    \n",
    "    def __lt__(self, other):\n",
    "        if isinstance(other, rectangle):\n",
    "            return self.area()<other.area()\n",
    "        else:\n",
    "            return NotImplemented\n",
    "    \n",
    "r1 = rectangle(10,20)\n",
    "r2 = rectangle(100,200)\n"
   ]
  },
  {
   "cell_type": "code",
   "execution_count": 30,
   "id": "57d597e9",
   "metadata": {},
   "outputs": [
    {
     "data": {
      "text/plain": [
       "True"
      ]
     },
     "execution_count": 30,
     "metadata": {},
     "output_type": "execute_result"
    }
   ],
   "source": [
    "r1<r2"
   ]
  },
  {
   "cell_type": "code",
   "execution_count": 31,
   "id": "c20856c8",
   "metadata": {},
   "outputs": [
    {
     "data": {
      "text/plain": [
       "False"
      ]
     },
     "execution_count": 31,
     "metadata": {},
     "output_type": "execute_result"
    }
   ],
   "source": [
    "r1>r2"
   ]
  },
  {
   "cell_type": "code",
   "execution_count": null,
   "id": "23c7a034",
   "metadata": {},
   "outputs": [],
   "source": []
  }
 ],
 "metadata": {
  "kernelspec": {
   "display_name": "Python 3 (ipykernel)",
   "language": "python",
   "name": "python3"
  },
  "language_info": {
   "codemirror_mode": {
    "name": "ipython",
    "version": 3
   },
   "file_extension": ".py",
   "mimetype": "text/x-python",
   "name": "python",
   "nbconvert_exporter": "python",
   "pygments_lexer": "ipython3",
   "version": "3.9.12"
  }
 },
 "nbformat": 4,
 "nbformat_minor": 5
}
