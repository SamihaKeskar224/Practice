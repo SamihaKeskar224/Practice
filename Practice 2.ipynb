{
 "cells": [
  {
   "cell_type": "code",
   "execution_count": 1,
   "id": "5cf7a876",
   "metadata": {},
   "outputs": [
    {
     "data": {
      "text/plain": [
       "'a***b***c'"
      ]
     },
     "execution_count": 1,
     "metadata": {},
     "output_type": "execute_result"
    }
   ],
   "source": [
    "'***'.join(['a','b','c'])"
   ]
  },
  {
   "cell_type": "code",
   "execution_count": 2,
   "id": "f2cf1ac2",
   "metadata": {},
   "outputs": [],
   "source": [
    "a = list(\"abc\") + ['d','e','f']"
   ]
  },
  {
   "cell_type": "code",
   "execution_count": 3,
   "id": "e2687a68",
   "metadata": {},
   "outputs": [
    {
     "data": {
      "text/plain": [
       "['a', 'b', 'c', 'd', 'e', 'f']"
      ]
     },
     "execution_count": 3,
     "metadata": {},
     "output_type": "execute_result"
    }
   ],
   "source": [
    "a"
   ]
  },
  {
   "cell_type": "code",
   "execution_count": 4,
   "id": "57889349",
   "metadata": {},
   "outputs": [
    {
     "data": {
      "text/plain": [
       "'abcdef'"
      ]
     },
     "execution_count": 4,
     "metadata": {},
     "output_type": "execute_result"
    }
   ],
   "source": [
    "''.join(a)"
   ]
  },
  {
   "cell_type": "code",
   "execution_count": 5,
   "id": "2660c257",
   "metadata": {},
   "outputs": [
    {
     "name": "stdout",
     "output_type": "stream",
     "text": [
      "A\n",
      "10\n",
      "x\n",
      "a\n"
     ]
    }
   ],
   "source": [
    "#set is iterable but sequence dosent matter\n",
    "\n",
    "s = {'a', 10, 'A', 'x'}\n",
    "for i in s:\n",
    "    print(i)"
   ]
  },
  {
   "cell_type": "code",
   "execution_count": 6,
   "id": "c442ce34",
   "metadata": {},
   "outputs": [
    {
     "data": {
      "text/plain": [
       "[(0, 'a'), (1, 'b'), (2, 'c'), (3, 'd'), (4, 'e')]"
      ]
     },
     "execution_count": 6,
     "metadata": {},
     "output_type": "execute_result"
    }
   ],
   "source": [
    "# printing index of elements of list\n",
    "\n",
    "l = ['a','b','c','d','e']\n",
    "list(enumerate(l))"
   ]
  },
  {
   "cell_type": "code",
   "execution_count": 7,
   "id": "e590b6c9",
   "metadata": {},
   "outputs": [
    {
     "name": "stdout",
     "output_type": "stream",
     "text": [
      "0\n",
      "1\n",
      "2\n"
     ]
    }
   ],
   "source": [
    "# printing index of elements of list\n",
    "\n",
    "l = ['a','b','c','d','e']\n",
    "print(l.index('a'))\n",
    "print(l.index('b'))\n",
    "print(l.index('c'))"
   ]
  },
  {
   "cell_type": "code",
   "execution_count": 8,
   "id": "d90f6e05",
   "metadata": {},
   "outputs": [
    {
     "name": "stdout",
     "output_type": "stream",
     "text": [
      "1\n"
     ]
    }
   ],
   "source": [
    "# element 'b' at or after index 1\n",
    "\n",
    "l = ['a','b','c','d','e']\n",
    "print(l.index('b',1))"
   ]
  },
  {
   "cell_type": "code",
   "execution_count": 9,
   "id": "63640f37",
   "metadata": {},
   "outputs": [
    {
     "name": "stdout",
     "output_type": "stream",
     "text": [
      "[1, 2, 3, 4, 5, 6]\n",
      "2227900934448\n"
     ]
    }
   ],
   "source": [
    "# appends the list without changing its memory address\n",
    "\n",
    "l = [1,2,3,4,5]\n",
    "l.append(6)\n",
    "print(l)\n",
    "print(id(1))"
   ]
  },
  {
   "cell_type": "code",
   "execution_count": 10,
   "id": "ad4760c3",
   "metadata": {},
   "outputs": [
    {
     "name": "stdout",
     "output_type": "stream",
     "text": [
      "2228004257856\n",
      "[1, 2, 3, 4, 5, 7]\n",
      "2228004258432\n"
     ]
    }
   ],
   "source": [
    "# concatenation changes memory address\n",
    "\n",
    "l2 = [1,2,3,4,5]\n",
    "print(id(l2))\n",
    "l2 = l2 +[7]\n",
    "print(l2)\n",
    "print(id(l2))"
   ]
  },
  {
   "cell_type": "code",
   "execution_count": 11,
   "id": "86fbb59d",
   "metadata": {},
   "outputs": [
    {
     "name": "stdout",
     "output_type": "stream",
     "text": [
      "[1, 2, 3, 4, 5, 6, 7, 8]\n"
     ]
    }
   ],
   "source": [
    "# append multiple elements at the end\n",
    "\n",
    "l = [1,2,3,4,5]\n",
    "l.extend([6,7,8])\n",
    "print(l)"
   ]
  },
  {
   "cell_type": "code",
   "execution_count": 12,
   "id": "1b894f11",
   "metadata": {},
   "outputs": [
    {
     "name": "stdout",
     "output_type": "stream",
     "text": [
      "[1, 2, 3, 4, 5, 8, 6, 7]\n"
     ]
    }
   ],
   "source": [
    "# append multiple elements at the end but not in order since it is a set\n",
    "\n",
    "l = [1,2,3,4,5]\n",
    "l.extend({6,7,8})\n",
    "print(l)"
   ]
  },
  {
   "cell_type": "code",
   "execution_count": 13,
   "id": "19b4f120",
   "metadata": {},
   "outputs": [
    {
     "name": "stdout",
     "output_type": "stream",
     "text": [
      "  1           0 LOAD_CONST               0 ((1, 2, 3, 'a'))\n",
      "              2 RETURN_VALUE\n"
     ]
    }
   ],
   "source": [
    "# loads whole tuple as constant and then return. compilation in less steps\n",
    "\n",
    "from dis import dis\n",
    "dis(compile('(1,2,3,\"a\")','string','eval'))"
   ]
  },
  {
   "cell_type": "code",
   "execution_count": 14,
   "id": "c3f6d13d",
   "metadata": {},
   "outputs": [
    {
     "name": "stdout",
     "output_type": "stream",
     "text": [
      "  1           0 BUILD_LIST               0\n",
      "              2 LOAD_CONST               0 ((1, 2, 3, 'a'))\n",
      "              4 LIST_EXTEND              1\n",
      "              6 RETURN_VALUE\n"
     ]
    }
   ],
   "source": [
    "# loads whole list as indivisual constant (each indivisual element) and then return. compilation in more steps\n",
    "\n",
    "from dis import dis\n",
    "dis(compile('[1,2,3,\"a\"]','string','eval'))"
   ]
  },
  {
   "cell_type": "code",
   "execution_count": 15,
   "id": "39a86958",
   "metadata": {},
   "outputs": [
    {
     "data": {
      "text/plain": [
       "0.08666380000000018"
      ]
     },
     "execution_count": 15,
     "metadata": {},
     "output_type": "execute_result"
    }
   ],
   "source": [
    "# time for compilation\n",
    "\n",
    "from timeit import timeit\n",
    "timeit('(1,2,3,4,5,6,7,8,9,10)', number = 10_000_000)"
   ]
  },
  {
   "cell_type": "code",
   "execution_count": 16,
   "id": "27e0b8c0",
   "metadata": {},
   "outputs": [
    {
     "data": {
      "text/plain": [
       "0.4950534000000002"
      ]
     },
     "execution_count": 16,
     "metadata": {},
     "output_type": "execute_result"
    }
   ],
   "source": [
    "# time for compilation\n",
    "\n",
    "from timeit import timeit\n",
    "timeit('[1,2,3,4,5,6,7,8,9,10]', number = 10_000_000)"
   ]
  },
  {
   "cell_type": "code",
   "execution_count": 17,
   "id": "28546d70",
   "metadata": {},
   "outputs": [
    {
     "name": "stdout",
     "output_type": "stream",
     "text": [
      "2228004260288 2227987608320\n",
      "2228004321616 2228004321616\n"
     ]
    }
   ],
   "source": [
    "# id of list changes and that of tuple dosent after copying\n",
    "\n",
    "l1 = [1,2,3,4,5]\n",
    "t1 = (1,2,3,4,5)\n",
    "\n",
    "# copying list and tuple \n",
    "l2 = list(l1)\n",
    "t2 = tuple(t1)\n",
    "\n",
    "print(id(l1),id(l2))\n",
    "print(id(t1),id(t2))"
   ]
  },
  {
   "cell_type": "code",
   "execution_count": 18,
   "id": "8c70b02a",
   "metadata": {},
   "outputs": [
    {
     "name": "stdout",
     "output_type": "stream",
     "text": [
      "0.2993823\n",
      "0.28071599999999997\n"
     ]
    }
   ],
   "source": [
    "from timeit import timeit\n",
    "t = tuple(range(100_000))\n",
    "l = list(t)\n",
    "\n",
    "print(timeit('t[99_999]', globals = globals(), number = 10_000_000))\n",
    "print(timeit('l[99_999]', globals = globals(), number = 10_000_000))"
   ]
  },
  {
   "cell_type": "code",
   "execution_count": null,
   "id": "b27ca1a5",
   "metadata": {},
   "outputs": [],
   "source": []
  }
 ],
 "metadata": {
  "kernelspec": {
   "display_name": "Python 3 (ipykernel)",
   "language": "python",
   "name": "python3"
  },
  "language_info": {
   "codemirror_mode": {
    "name": "ipython",
    "version": 3
   },
   "file_extension": ".py",
   "mimetype": "text/x-python",
   "name": "python",
   "nbconvert_exporter": "python",
   "pygments_lexer": "ipython3",
   "version": "3.9.12"
  }
 },
 "nbformat": 4,
 "nbformat_minor": 5
}
